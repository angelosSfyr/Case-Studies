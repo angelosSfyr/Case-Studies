{
  "cells": [
    {
      "cell_type": "code",
      "execution_count": 1,
      "metadata": {
        "colab": {
          "base_uri": "https://localhost:8080/",
          "height": 179
        },
        "id": "JIUIBJVHkqkP",
        "outputId": "29c07844-1aff-4c72-b584-c41e2c985a76"
      },
      "outputs": [
        {
          "data": {
            "text/html": [
              "<div>\n",
              "<style scoped>\n",
              "    .dataframe tbody tr th:only-of-type {\n",
              "        vertical-align: middle;\n",
              "    }\n",
              "\n",
              "    .dataframe tbody tr th {\n",
              "        vertical-align: top;\n",
              "    }\n",
              "\n",
              "    .dataframe thead th {\n",
              "        text-align: right;\n",
              "    }\n",
              "</style>\n",
              "<table border=\"1\" class=\"dataframe\">\n",
              "  <thead>\n",
              "    <tr style=\"text-align: right;\">\n",
              "      <th></th>\n",
              "      <th>emp_title</th>\n",
              "      <th>emp_length</th>\n",
              "      <th>state</th>\n",
              "      <th>homeownership</th>\n",
              "      <th>annual_income</th>\n",
              "      <th>verified_income</th>\n",
              "      <th>debt_to_income</th>\n",
              "      <th>annual_income_joint</th>\n",
              "      <th>verification_income_joint</th>\n",
              "      <th>debt_to_income_joint</th>\n",
              "      <th>delinq_2y</th>\n",
              "      <th>months_since_last_delinq</th>\n",
              "      <th>earliest_credit_line</th>\n",
              "      <th>inquiries_last_12m</th>\n",
              "      <th>total_credit_lines</th>\n",
              "      <th>open_credit_lines</th>\n",
              "      <th>total_credit_limit</th>\n",
              "      <th>total_credit_utilized</th>\n",
              "      <th>num_collections_last_12m</th>\n",
              "      <th>num_historical_failed_to_pay</th>\n",
              "      <th>months_since_90d_late</th>\n",
              "      <th>current_accounts_delinq</th>\n",
              "      <th>total_collection_amount_ever</th>\n",
              "      <th>current_installment_accounts</th>\n",
              "      <th>accounts_opened_24m</th>\n",
              "      <th>months_since_last_credit_inquiry</th>\n",
              "      <th>num_satisfactory_accounts</th>\n",
              "      <th>num_accounts_120d_past_due</th>\n",
              "      <th>num_accounts_30d_past_due</th>\n",
              "      <th>num_active_debit_accounts</th>\n",
              "      <th>total_debit_limit</th>\n",
              "      <th>num_total_cc_accounts</th>\n",
              "      <th>num_open_cc_accounts</th>\n",
              "      <th>num_cc_carrying_balance</th>\n",
              "      <th>num_mort_accounts</th>\n",
              "      <th>account_never_delinq_percent</th>\n",
              "      <th>tax_liens</th>\n",
              "      <th>public_record_bankrupt</th>\n",
              "      <th>loan_purpose</th>\n",
              "      <th>application_type</th>\n",
              "      <th>loan_amount</th>\n",
              "      <th>term</th>\n",
              "      <th>interest_rate</th>\n",
              "      <th>installment</th>\n",
              "      <th>grade</th>\n",
              "      <th>sub_grade</th>\n",
              "      <th>issue_month</th>\n",
              "      <th>loan_status</th>\n",
              "      <th>initial_listing_status</th>\n",
              "      <th>disbursement_method</th>\n",
              "      <th>balance</th>\n",
              "      <th>paid_total</th>\n",
              "      <th>paid_principal</th>\n",
              "      <th>paid_interest</th>\n",
              "      <th>paid_late_fees</th>\n",
              "    </tr>\n",
              "  </thead>\n",
              "  <tbody>\n",
              "    <tr>\n",
              "      <th>0</th>\n",
              "      <td>global config engineer</td>\n",
              "      <td>3.0</td>\n",
              "      <td>NJ</td>\n",
              "      <td>MORTGAGE</td>\n",
              "      <td>90000.0</td>\n",
              "      <td>Verified</td>\n",
              "      <td>18.01</td>\n",
              "      <td>NaN</td>\n",
              "      <td>NaN</td>\n",
              "      <td>NaN</td>\n",
              "      <td>0</td>\n",
              "      <td>38.0</td>\n",
              "      <td>2001</td>\n",
              "      <td>6</td>\n",
              "      <td>28</td>\n",
              "      <td>10</td>\n",
              "      <td>70795</td>\n",
              "      <td>38767</td>\n",
              "      <td>0</td>\n",
              "      <td>0</td>\n",
              "      <td>38.0</td>\n",
              "      <td>0</td>\n",
              "      <td>1250</td>\n",
              "      <td>2</td>\n",
              "      <td>5</td>\n",
              "      <td>5.0</td>\n",
              "      <td>10</td>\n",
              "      <td>0.0</td>\n",
              "      <td>0</td>\n",
              "      <td>2</td>\n",
              "      <td>11100</td>\n",
              "      <td>14</td>\n",
              "      <td>8</td>\n",
              "      <td>6</td>\n",
              "      <td>1</td>\n",
              "      <td>92.9</td>\n",
              "      <td>0</td>\n",
              "      <td>0</td>\n",
              "      <td>moving</td>\n",
              "      <td>individual</td>\n",
              "      <td>28000</td>\n",
              "      <td>60</td>\n",
              "      <td>14.07</td>\n",
              "      <td>652.53</td>\n",
              "      <td>C</td>\n",
              "      <td>C3</td>\n",
              "      <td>Mar-2018</td>\n",
              "      <td>Current</td>\n",
              "      <td>whole</td>\n",
              "      <td>Cash</td>\n",
              "      <td>27015.86</td>\n",
              "      <td>1999.33</td>\n",
              "      <td>984.14</td>\n",
              "      <td>1015.19</td>\n",
              "      <td>0.0</td>\n",
              "    </tr>\n",
              "  </tbody>\n",
              "</table>\n",
              "</div>"
            ],
            "text/plain": [
              "                 emp_title  emp_length state homeownership  annual_income  \\\n",
              "0  global config engineer          3.0    NJ      MORTGAGE        90000.0   \n",
              "\n",
              "  verified_income  debt_to_income  annual_income_joint  \\\n",
              "0        Verified           18.01                  NaN   \n",
              "\n",
              "  verification_income_joint  debt_to_income_joint  delinq_2y  \\\n",
              "0                       NaN                   NaN          0   \n",
              "\n",
              "   months_since_last_delinq  earliest_credit_line  inquiries_last_12m  \\\n",
              "0                      38.0                  2001                   6   \n",
              "\n",
              "   total_credit_lines  open_credit_lines  total_credit_limit  \\\n",
              "0                  28                 10               70795   \n",
              "\n",
              "   total_credit_utilized  num_collections_last_12m  \\\n",
              "0                  38767                         0   \n",
              "\n",
              "   num_historical_failed_to_pay  months_since_90d_late  \\\n",
              "0                             0                   38.0   \n",
              "\n",
              "   current_accounts_delinq  total_collection_amount_ever  \\\n",
              "0                        0                          1250   \n",
              "\n",
              "   current_installment_accounts  accounts_opened_24m  \\\n",
              "0                             2                    5   \n",
              "\n",
              "   months_since_last_credit_inquiry  num_satisfactory_accounts  \\\n",
              "0                               5.0                         10   \n",
              "\n",
              "   num_accounts_120d_past_due  num_accounts_30d_past_due  \\\n",
              "0                         0.0                          0   \n",
              "\n",
              "   num_active_debit_accounts  total_debit_limit  num_total_cc_accounts  \\\n",
              "0                          2              11100                     14   \n",
              "\n",
              "   num_open_cc_accounts  num_cc_carrying_balance  num_mort_accounts  \\\n",
              "0                     8                        6                  1   \n",
              "\n",
              "   account_never_delinq_percent  tax_liens  public_record_bankrupt  \\\n",
              "0                          92.9          0                       0   \n",
              "\n",
              "  loan_purpose application_type  loan_amount  term  interest_rate  \\\n",
              "0       moving       individual        28000    60          14.07   \n",
              "\n",
              "   installment grade sub_grade issue_month loan_status initial_listing_status  \\\n",
              "0       652.53     C        C3    Mar-2018     Current                  whole   \n",
              "\n",
              "  disbursement_method   balance  paid_total  paid_principal  paid_interest  \\\n",
              "0                Cash  27015.86     1999.33          984.14        1015.19   \n",
              "\n",
              "   paid_late_fees  \n",
              "0             0.0  "
            ]
          },
          "execution_count": 1,
          "metadata": {},
          "output_type": "execute_result"
        }
      ],
      "source": [
        "import pandas as pd\n",
        "\n",
        "# Read the CSV file\n",
        "df = pd.read_csv(\"loans_full_schema.csv\")\n",
        "\n",
        "pd.set_option(\"display.max_columns\", None)\n",
        "df[:1]\n"
      ]
    },
    {
      "cell_type": "code",
      "execution_count": 2,
      "metadata": {
        "colab": {
          "base_uri": "https://localhost:8080/",
          "height": 88
        },
        "id": "UavhGE_Tkqke",
        "outputId": "5ebab52b-04dc-4f00-bb05-ee730cf0b8e4"
      },
      "outputs": [
        {
          "data": {
            "text/plain": [
              "'\\n    sum of missing values per column\\n\\nemp_title                            833\\nemp_length                           817\\ndebt_to_income                        24\\nannual_income_joint                 8505\\nverification_income_joint           8545\\ndebt_to_income_joint                8505\\nmonths_since_last_delinq            5658\\nmonths_since_90d_late               7715\\nmonths_since_last_credit_inquiry    1271\\nnum_accounts_120d_past_due           318\\n'"
            ]
          },
          "execution_count": 2,
          "metadata": {},
          "output_type": "execute_result"
        }
      ],
      "source": [
        "pd.set_option('display.max_rows',  df.shape[0]+1)\n",
        "# missing = df.isnull().sum()\n",
        "\"\"\"\n",
        "    sum of missing values per column\n",
        "\n",
        "emp_title                            833\n",
        "emp_length                           817\n",
        "debt_to_income                        24\n",
        "annual_income_joint                 8505\n",
        "verification_income_joint           8545\n",
        "debt_to_income_joint                8505\n",
        "months_since_last_delinq            5658\n",
        "months_since_90d_late               7715\n",
        "months_since_last_credit_inquiry    1271\n",
        "num_accounts_120d_past_due           318\n",
        "\"\"\"\n"
      ]
    },
    {
      "cell_type": "markdown",
      "metadata": {
        "id": "L4l_ntTwkqkx"
      },
      "source": [
        "# Describe the dataset and any issues with it.\n",
        "The Lending Club data set contains information on thousands of loans made through the Lending Club platform. It includes a variety of features related to the borrower, such as their employment status, credit score, and income, as well as features related to the loan, such as the loan amount, interest rate, and term. There are 55 variables in total, including both numerical and categorical variables.\n",
        "\n",
        "There are a few potential issues with this data set.\n",
        "First off al there are missing values some variables, however they are not going to be used for the data exploration and visualization.\n",
        "Another issue is that it only represents loans that were actually made, not all loan applications.\n",
        "This means that it is possible that some of the riskier borrowers were not included in the data set\n",
        "because they were not offered a loan or did not accept a loan offer due to a high interest rate.\n",
        "Another issue is that the data may be biased towards borrowers with higher\n",
        "credit scores, since these borrowers may be more likely to be approved for a loan and to accept a loan offer.\n",
        "These issues should be kept in mind when interpreting the results of any analysis or visualizations using this data."
      ]
    },
    {
      "cell_type": "code",
      "execution_count": 3,
      "metadata": {
        "id": "er-xx6XLkqk5"
      },
      "outputs": [],
      "source": [
        "# 5  visualization plots\n",
        "\n",
        "# 1. A scatter plotA scatterplot of loan amount versus interest rate, with different colors representing different credit scores.\n",
        "\n",
        "# 2. A map of the United States with a choropleth map showing the average interest rate by state.\n",
        "\n",
        "# 3. A box plot of interest rate by income bracket. This visualization could show whether there is a relationship between borrower income and the interest rate they are offered.\n",
        "\n",
        "# 4. A pie chart of loan purpose percentages.\n",
        "\n",
        "# 5. "
      ]
    },
    {
      "cell_type": "code",
      "execution_count": 14,
      "metadata": {
        "colab": {
          "base_uri": "https://localhost:8080/",
          "height": 281
        },
        "id": "rOAm8LZrkqk6",
        "outputId": "26c9bf4b-b7f3-4484-a6c2-1e9fc28623d5"
      },
      "outputs": [
        {
          "data": {
            "image/png": "[encoded data removed]",
            "text/plain": [
              "<Figure size 640x480 with 1 Axes>"
            ]
          },
          "metadata": {},
          "output_type": "display_data"
        }
      ],
      "source": [
        "import matplotlib.pyplot  as plt\n",
        "\n",
        "\n",
        "explode = (0, 0.1, 0, 0)  \n",
        "fig1, ax1 = plt.subplots()\n",
        "\n",
        "# Count the number of loans for each purpose\n",
        "purposes = df['loan_purpose'].value_counts()\n",
        "\n",
        "# Calculate the percentages\n",
        "percentages = purposes / purposes.sum()\n",
        "\n",
        "# Create the pie chart with smaller labels\n",
        "plt.pie(percentages, labels=purposes.index)\n",
        "\n",
        "# Add a title\n",
        "plt.title('Loan Purpose Percentages')\n",
        "\n",
        "\n",
        "plt.show()\n",
        "\n"
      ]
    }
  ],
  "metadata": {
    "colab": {
      "provenance": []
    },
    "kernelspec": {
      "display_name": "Python 3",
      "language": "python",
      "name": "python3"
    },
    "language_info": {
      "codemirror_mode": {
        "name": "ipython",
        "version": 3
      },
      "file_extension": ".py",
      "mimetype": "text/x-python",
      "name": "python",
      "nbconvert_exporter": "python",
      "pygments_lexer": "ipython3",
      "version": "3.10.5"
    },
    "orig_nbformat": 4,
    "vscode": {
      "interpreter": {
        "hash": "9baccd18fae0b32e72f8a8d57c972f46ade2d8c8e9aa2eccdb7df78b63bedcbb"
      }
    }
  },
  "nbformat": 4,
  "nbformat_minor": 0
}
